{
 "cells": [
  {
   "cell_type": "code",
   "execution_count": null,
   "metadata": {},
   "outputs": [
    {
     "ename": "",
     "evalue": "",
     "output_type": "error",
     "traceback": [
      "\u001b[1;31mCanceled future for execute_request message before replies were done"
     ]
    }
   ],
   "source": [
    "a=\"banana\"\n",
    "for i in range(len(a)):\n",
    "\n",
    "    print(\"in,\",i, \"itteration it is printing\" ,a[i])"
   ]
  },
  {
   "cell_type": "code",
   "execution_count": null,
   "metadata": {},
   "outputs": [
    {
     "name": "stdout",
     "output_type": "stream",
     "text": [
      "ashok\n",
      "a\n",
      "s\n",
      "h\n",
      "o\n",
      "k\n",
      "sai\n",
      "s\n",
      "a\n",
      "i\n",
      "ram\n",
      "r\n",
      "a\n",
      "m\n"
     ]
    }
   ],
   "source": [
    "s=[\"ashok\",\"sai\",\"ram\"]\n",
    "i=0\n",
    "j=0\n",
    "while i<len(s):\n",
    "    name=s[i]\n",
    "    print (s[i])\n",
    "    j=0\n",
    "    while j<len(name):#j\n",
    "        print(s[i][j])# i=0,\n",
    "        j=j+1\n",
    "    i=i+1\n"
   ]
  },
  {
   "cell_type": "code",
   "execution_count": null,
   "metadata": {},
   "outputs": [],
   "source": [
    "name=input(\"enter word\")\n",
    "i=0\n",
    "while i<10:\n",
    "    print(\"hello\",name)\n",
    "    i=i+1"
   ]
  },
  {
   "cell_type": "code",
   "execution_count": null,
   "metadata": {},
   "outputs": [],
   "source": [
    "n=\"happy\"\n",
    "i=0\n",
    "while i<len(n):\n",
    "    if i==0 or i==4:\n",
    "        i=i+1\n",
    "        continue\n",
    "    else:\n",
    "        \n",
    "        print(n[i])\n",
    "    i=i+1\n",
    "\n",
    "    "
   ]
  },
  {
   "cell_type": "code",
   "execution_count": null,
   "metadata": {},
   "outputs": [],
   "source": [
    "n=\"happy\"\n",
    "i=0\n",
    "while i<len(n):\n",
    "    if i==0 or i==4:\n",
    "        i=i+1\n",
    "        continue\n",
    "    else:\n",
    "        \n",
    "        print(n[i])\n",
    "    i=i+1"
   ]
  },
  {
   "cell_type": "code",
   "execution_count": null,
   "metadata": {},
   "outputs": [],
   "source": [
    "i=10\n",
    "while i>0:\n",
    "    print(i)\n",
    "    i=i-1\n",
    "    \n",
    "    "
   ]
  }
 ],
 "metadata": {
  "kernelspec": {
   "display_name": "base",
   "language": "python",
   "name": "python3"
  },
  "language_info": {
   "codemirror_mode": {
    "name": "ipython",
    "version": 3
   },
   "file_extension": ".py",
   "mimetype": "text/x-python",
   "name": "python",
   "nbconvert_exporter": "python",
   "pygments_lexer": "ipython3",
   "version": "3.9.12"
  },
  "orig_nbformat": 4
 },
 "nbformat": 4,
 "nbformat_minor": 2
}
